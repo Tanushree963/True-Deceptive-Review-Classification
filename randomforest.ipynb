{
 "cells": [
  {
   "cell_type": "code",
   "execution_count": 1,
   "metadata": {},
   "outputs": [],
   "source": [
    "import os\n",
    "import numpy as np\n",
    "import pandas as pd\n",
    "from sklearn import metrics\n",
    "from sklearn.metrics import precision_score\n",
    "from sklearn.metrics import recall_score\n",
    "from sklearn.metrics import f1_score\n",
    "\n",
    "from sklearn.feature_extraction.text import CountVectorizer\n",
    "from sklearn.naive_bayes import MultinomialNB\n",
    "from sklearn.model_selection import train_test_split"
   ]
  },
  {
   "cell_type": "code",
   "execution_count": 2,
   "metadata": {},
   "outputs": [],
   "source": [
    "neg_deceptive_folder_path =r'C:\\Users\\KIIT\\Downloads\\op_spam_v1.4\\op_spam_v1.4\\negative_polarity\\deceptive_from_MTurk' \n",
    "neg_true_folder_path = r'C:\\Users\\KIIT\\Downloads\\op_spam_v1.4\\op_spam_v1.4\\negative_polarity\\truthful_from_Web'\n",
    "pos_deceptive_folder_path =r'C:\\Users\\KIIT\\Downloads\\op_spam_v1.4\\op_spam_v1.4\\positive_polarity\\deceptive_from_MTurk'\n",
    "pos_true_folder_path = r'C:\\Users\\KIIT\\Downloads\\op_spam_v1.4\\op_spam_v1.4\\positive_polarity\\truthful_from_TripAdvisor'"
   ]
  },
  {
   "cell_type": "code",
   "execution_count": 3,
   "metadata": {},
   "outputs": [],
   "source": [
    "polarity_class = []\n",
    "reviews = []\n",
    "spamity_class =[]"
   ]
  },
  {
   "cell_type": "code",
   "execution_count": 4,
   "metadata": {},
   "outputs": [],
   "source": [
    "for i in range(1,6):\n",
    "    insideptru = pos_true_folder_path + '\\\\fold' + str(i) \n",
    "    insidepdec = pos_deceptive_folder_path + '\\\\fold' + str(i)\n",
    "    insidentru = neg_true_folder_path + '\\\\fold' + str(i) \n",
    "    insidendec = neg_deceptive_folder_path + '\\\\fold' + str(i) \n",
    "    pos_list = []\n",
    "    for data_file in sorted(os.listdir(insidendec)):\n",
    "        polarity_class.append('negtive')\n",
    "        spamity_class.append(str(data_file.split('_')[0]))\n",
    "        with open(os.path.join(insidendec, data_file)) as f:\n",
    "                contents = f.read()\n",
    "                reviews.append(contents)\n",
    "    for data_file in sorted(os.listdir(insidentru)):\n",
    "        polarity_class.append('negative')\n",
    "        spamity_class.append(str(data_file.split('_')[0]))\n",
    "        with open(os.path.join(insidentru, data_file)) as f:\n",
    "                contents = f.read()\n",
    "                reviews.append(contents)\n",
    "    for data_file in sorted(os.listdir(insidepdec)):\n",
    "        polarity_class.append('positive')\n",
    "        spamity_class.append(str(data_file.split('_')[0]))\n",
    "        with open(os.path.join(insidepdec, data_file)) as f:\n",
    "                contents = f.read()\n",
    "                reviews.append(contents)\n",
    "    for data_file in sorted(os.listdir(insideptru)):\n",
    "        polarity_class.append('positive')\n",
    "        spamity_class.append(str(data_file.split('_')[0]))\n",
    "        with open(os.path.join(insideptru, data_file)) as f:\n",
    "                contents = f.read()\n",
    "                reviews.append(contents)"
   ]
  },
  {
   "cell_type": "code",
   "execution_count": 5,
   "metadata": {},
   "outputs": [],
   "source": [
    "data_fm = pd.DataFrame({'polarity_class':polarity_class,'review':reviews,'spamity_class':spamity_class})\n",
    "\n",
    "data_fm.loc[data_fm['spamity_class']=='d','spamity_class']=0\n",
    "data_fm.loc[data_fm['spamity_class']=='t','spamity_class']=1"
   ]
  },
  {
   "cell_type": "code",
   "execution_count": 6,
   "metadata": {},
   "outputs": [],
   "source": [
    "data_x = data_fm['review']\n",
    "\n",
    "data_y = np.asarray(data_fm['spamity_class'],dtype=int)\n",
    "\n",
    "#X_train, X_test, y_train, y_test = train_test_split(data_x, data_y, test_size=0.3)"
   ]
  },
  {
   "cell_type": "code",
   "execution_count": 7,
   "metadata": {},
   "outputs": [
    {
     "name": "stdout",
     "output_type": "stream",
     "text": [
      "<class 'pandas.core.frame.DataFrame'>\n",
      "RangeIndex: 1600 entries, 0 to 1599\n",
      "Data columns (total 3 columns):\n",
      "polarity_class    1600 non-null object\n",
      "review            1600 non-null object\n",
      "spamity_class     1600 non-null object\n",
      "dtypes: object(3)\n",
      "memory usage: 37.6+ KB\n"
     ]
    }
   ],
   "source": [
    "data_fm.info()"
   ]
  },
  {
   "cell_type": "code",
   "execution_count": 8,
   "metadata": {},
   "outputs": [],
   "source": [
    "from sklearn.feature_extraction.text import TfidfVectorizer\n",
    "\n",
    "vectorizer = TfidfVectorizer()\n",
    "data_x = vectorizer.fit_transform(data_x)"
   ]
  },
  {
   "cell_type": "code",
   "execution_count": 9,
   "metadata": {},
   "outputs": [],
   "source": [
    "X_train, X_test, y_train, y_test = train_test_split(data_x, data_y, test_size=0.3)"
   ]
  },
  {
   "cell_type": "code",
   "execution_count": 10,
   "metadata": {},
   "outputs": [],
   "source": [
    "#cv =  CountVectorizer()\n",
    "#X_traincv = cv.fit_transform(X_train)\n",
    "#X_testcv = cv.transform(X_test)"
   ]
  },
  {
   "cell_type": "code",
   "execution_count": 11,
   "metadata": {},
   "outputs": [],
   "source": [
    "from sklearn.ensemble import RandomForestClassifier as rfc"
   ]
  },
  {
   "cell_type": "code",
   "execution_count": 12,
   "metadata": {},
   "outputs": [
    {
     "name": "stderr",
     "output_type": "stream",
     "text": [
      "C:\\Users\\KIIT\\Anaconda3\\lib\\site-packages\\sklearn\\ensemble\\forest.py:246: FutureWarning: The default value of n_estimators will change from 10 in version 0.20 to 100 in 0.22.\n",
      "  \"10 in version 0.20 to 100 in 0.22.\", FutureWarning)\n"
     ]
    },
    {
     "data": {
      "text/plain": [
       "0.725"
      ]
     },
     "execution_count": 12,
     "metadata": {},
     "output_type": "execute_result"
    }
   ],
   "source": [
    "classifier = rfc()\n",
    "classifier.fit(X_train,y_train)\n",
    "classifier.score(X_test,y_test)"
   ]
  },
  {
   "cell_type": "code",
   "execution_count": 13,
   "metadata": {},
   "outputs": [
    {
     "name": "stderr",
     "output_type": "stream",
     "text": [
      "C:\\Users\\KIIT\\Anaconda3\\lib\\site-packages\\sklearn\\model_selection\\_split.py:2053: FutureWarning: You should specify a value for 'cv' instead of relying on the default value. The default value will change from 3 to 5 in version 0.22.\n",
      "  warnings.warn(CV_WARNING, FutureWarning)\n"
     ]
    },
    {
     "data": {
      "text/plain": [
       "RandomizedSearchCV(cv='warn', error_score='raise-deprecating',\n",
       "          estimator=RandomForestClassifier(bootstrap=True, class_weight=None, criterion='gini',\n",
       "            max_depth=None, max_features='auto', max_leaf_nodes=None,\n",
       "            min_impurity_decrease=0.0, min_impurity_split=None,\n",
       "            min_samples_leaf=1, min_samples_split=2,\n",
       "            min_weight_fraction_leaf=0.0, n_estimators='warn', n_jobs=None,\n",
       "            oob_score=False, random_state=None, verbose=0,\n",
       "            warm_start=False),\n",
       "          fit_params=None, iid='warn', n_iter=65, n_jobs=4,\n",
       "          param_distributions={'n_estimators': <scipy.stats._distn_infrastructure.rv_frozen object at 0x000001F97CC4EEF0>, 'criterion': ['gini', 'entropy'], 'min_samples_split': <scipy.stats._distn_infrastructure.rv_frozen object at 0x000001F97CDE20F0>, 'bootstrap': [True, False]},\n",
       "          pre_dispatch='2*n_jobs', random_state=None, refit=True,\n",
       "          return_train_score='warn', scoring=None, verbose=0)"
      ]
     },
     "execution_count": 13,
     "metadata": {},
     "output_type": "execute_result"
    }
   ],
   "source": [
    "from sklearn.model_selection import RandomizedSearchCV\n",
    "from scipy import stats\n",
    "\n",
    "classifier = rfc()\n",
    "\n",
    "hyperparameters = {\n",
    "    'n_estimators':stats.randint(10,300),\n",
    "    'criterion':['gini','entropy'],\n",
    "    'min_samples_split':stats.randint(2,9),\n",
    "    'bootstrap':[True,False]\n",
    "}\n",
    "\n",
    "random_search = RandomizedSearchCV(classifier, hyperparameters, n_iter=65, n_jobs=4)\n",
    "\n",
    "random_search.fit(data_x,data_y)"
   ]
  },
  {
   "cell_type": "code",
   "execution_count": 14,
   "metadata": {},
   "outputs": [
    {
     "data": {
      "text/plain": [
       "0.86875"
      ]
     },
     "execution_count": 14,
     "metadata": {},
     "output_type": "execute_result"
    }
   ],
   "source": [
    "optimized_classifier = random_search.best_estimator_\n",
    "optimized_classifier.fit(X_train,y_train)\n",
    "\n",
    "optimized_classifier.score(X_test,y_test)"
   ]
  },
  {
   "cell_type": "code",
   "execution_count": 15,
   "metadata": {},
   "outputs": [
    {
     "data": {
      "text/plain": [
       "array([[0.37027778, 0.62972222]])"
      ]
     },
     "execution_count": 15,
     "metadata": {},
     "output_type": "execute_result"
    }
   ],
   "source": [
    "optimized_classifier.fit(data_x,data_y)\n",
    "\n",
    "sentence = vectorizer.transform(['Every time I opened this app with in few minutes it has\\\n",
    "reloaded itself and mobile go down slowly why this is happening in only to this telegram app\\\n",
    "only all other apps running too fast but telegram will not work in my mobile why\\\n",
    "( it work excellent in past few months , but for the last two months it works slowly)'])\n",
    "\n",
    "\n",
    "optimized_classifier.predict_proba(sentence)"
   ]
  },
  {
   "cell_type": "code",
   "execution_count": null,
   "metadata": {},
   "outputs": [],
   "source": []
  }
 ],
 "metadata": {
  "kernelspec": {
   "display_name": "Python 3",
   "language": "python",
   "name": "python3"
  },
  "language_info": {
   "codemirror_mode": {
    "name": "ipython",
    "version": 3
   },
   "file_extension": ".py",
   "mimetype": "text/x-python",
   "name": "python",
   "nbconvert_exporter": "python",
   "pygments_lexer": "ipython3",
   "version": "3.6.8"
  }
 },
 "nbformat": 4,
 "nbformat_minor": 2
}
